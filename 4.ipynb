{
  "nbformat": 4,
  "nbformat_minor": 0,
  "metadata": {
    "colab": {
      "provenance": [],
      "authorship_tag": "ABX9TyM6JowXrSsskrW1ztABBtz/",
      "include_colab_link": true
    },
    "kernelspec": {
      "name": "python3",
      "display_name": "Python 3"
    },
    "language_info": {
      "name": "python"
    }
  },
  "cells": [
    {
      "cell_type": "markdown",
      "metadata": {
        "id": "view-in-github",
        "colab_type": "text"
      },
      "source": [
        "<a href=\"https://colab.research.google.com/github/MarinaRagozina/stringProcessing/blob/master/4.ipynb\" target=\"_parent\"><img src=\"https://colab.research.google.com/assets/colab-badge.svg\" alt=\"Open In Colab\"/></a>"
      ]
    },
    {
      "cell_type": "markdown",
      "source": [
        "# Задание 4"
      ],
      "metadata": {
        "id": "2yQwkN3Oz7Xn"
      }
    },
    {
      "cell_type": "markdown",
      "source": [
        "## Операции со списками и строками Python"
      ],
      "metadata": {
        "id": "QDiKhcc1zzAl"
      }
    },
    {
      "cell_type": "code",
      "execution_count": 3,
      "metadata": {
        "id": "H-Z7ZzGceYYV"
      },
      "outputs": [],
      "source": [
        "# импорт библиотек\n",
        "import time\n",
        "import re"
      ]
    },
    {
      "cell_type": "markdown",
      "source": [
        "Составляю небольшой датасет со строками, должны удаляться строки с индексами 1, 9, 14 и 15"
      ],
      "metadata": {
        "id": "6YUUE3J3b_0T"
      }
    },
    {
      "cell_type": "code",
      "source": [
        "data = [\"Hello, world! Привет, мир!\",\n",
        "  \"Lorem ipsum dolor sit amet, consectetur adipiscing elit.\",\n",
        "  \"Сегодня хорошая погода. Today is a nice weather.\",\n",
        "  \"Массив. Array.\",\n",
        "  \"Программирование - это круто! Programming is cool!\",\n",
        "  \"Структура. Structure.\",\n",
        "  \"Я люблю программировать. I love programming.\",\n",
        "  \"Соответствие. Map.\",\n",
        "  \"Кодировка - это важно! Encoding is important!\",\n",
        "  \"ValueList.\",\n",
        "  \"ТаблицаЗначений. ValueTable.\",\n",
        "  \"ДеревоЗначений (Строки). ValueTree (Strings).\",\n",
        "  \"Область. Region.\",\n",
        "  \"Клиент. Client.\",\n",
        "  \"Server.\",\n",
        "  \"\"]"
      ],
      "metadata": {
        "id": "GxgYm470uPBJ"
      },
      "execution_count": 23,
      "outputs": []
    },
    {
      "cell_type": "code",
      "source": [
        "len(data)"
      ],
      "metadata": {
        "colab": {
          "base_uri": "https://localhost:8080/"
        },
        "id": "c-Agl_hPeeN8",
        "outputId": "d7914768-28ca-46bb-8fc0-dabf75622c1a"
      },
      "execution_count": 24,
      "outputs": [
        {
          "output_type": "execute_result",
          "data": {
            "text/plain": [
              "16"
            ]
          },
          "metadata": {},
          "execution_count": 24
        }
      ]
    },
    {
      "cell_type": "markdown",
      "source": [
        "Для валидации строки условию (строки, в которых менее 2 русских символов - удаляются из списка) можно использовать регулярное выражение и метод search, а можно применить findall <br>\n",
        "Посмотрим, что более оптимально по времени"
      ],
      "metadata": {
        "id": "wjQYdY1-dTvX"
      }
    },
    {
      "cell_type": "code",
      "source": [
        "# findall \n",
        "start_time = time.time()\n",
        "[len(re.findall('[А-Яа-я]', elem)) >= 2 for elem in data]\n",
        "print(\"%s сек\" % ((time.time() - start_time)))"
      ],
      "metadata": {
        "colab": {
          "base_uri": "https://localhost:8080/"
        },
        "id": "eKtcgAX7eUgt",
        "outputId": "70f8f056-df26-487d-b482-b041f444729d"
      },
      "execution_count": 26,
      "outputs": [
        {
          "output_type": "stream",
          "name": "stdout",
          "text": [
            "0.0002970695495605469 сек\n"
          ]
        }
      ]
    },
    {
      "cell_type": "code",
      "source": [
        "# регулярное выражение и метод search\n",
        "start_time = time.time()\n",
        "[re.search(\"(.*[А-я].*){2,}\", elem) for elem in data]\n",
        "print(\"%s сек\" % ((time.time() - start_time)))"
      ],
      "metadata": {
        "colab": {
          "base_uri": "https://localhost:8080/"
        },
        "id": "SJgE7qbDgbDc",
        "outputId": "9ad4531e-da54-42e3-df8b-75151e24ec94"
      },
      "execution_count": 27,
      "outputs": [
        {
          "output_type": "stream",
          "name": "stdout",
          "text": [
            "0.00038933753967285156 сек\n"
          ]
        }
      ]
    },
    {
      "cell_type": "markdown",
      "source": [
        "Разница мала для такой маленькой выборки, посмотрим на более объемной выборке"
      ],
      "metadata": {
        "id": "0ymIeYKcik5i"
      }
    },
    {
      "cell_type": "code",
      "source": [
        "data = data * 10000\n",
        "len(data)"
      ],
      "metadata": {
        "colab": {
          "base_uri": "https://localhost:8080/"
        },
        "id": "UATwHi_vhkIn",
        "outputId": "f8f372cf-8153-4ef0-8459-508c7e73f313"
      },
      "execution_count": 19,
      "outputs": [
        {
          "output_type": "execute_result",
          "data": {
            "text/plain": [
              "160000"
            ]
          },
          "metadata": {},
          "execution_count": 19
        }
      ]
    },
    {
      "cell_type": "code",
      "source": [
        "# findall \n",
        "start_time = time.time()\n",
        "[len(re.findall('[А-Яа-я]', elem)) < 2 for elem in data]\n",
        "print(\"%s сек\" % ((time.time() - start_time)))"
      ],
      "metadata": {
        "colab": {
          "base_uri": "https://localhost:8080/"
        },
        "id": "ImeiNoGIi2Fr",
        "outputId": "24f14dc1-0395-45b6-8e47-dc6ff6496acc"
      },
      "execution_count": 20,
      "outputs": [
        {
          "output_type": "stream",
          "name": "stdout",
          "text": [
            "0.9586367607116699 сек\n"
          ]
        }
      ]
    },
    {
      "cell_type": "code",
      "source": [
        "# регулярное выражение и метод search\n",
        "start_time = time.time()\n",
        "[re.search(\"(.*[А-я].*){2,}\", elem) for elem in data]\n",
        "print(\"%s сек\" % ((time.time() - start_time)))"
      ],
      "metadata": {
        "colab": {
          "base_uri": "https://localhost:8080/"
        },
        "id": "Z7rKFJZ0jqmQ",
        "outputId": "58739a7b-2f42-4ae4-c6d4-59037847bdb9"
      },
      "execution_count": 21,
      "outputs": [
        {
          "output_type": "stream",
          "name": "stdout",
          "text": [
            "2.095867156982422 сек\n"
          ]
        }
      ]
    },
    {
      "cell_type": "markdown",
      "source": [
        "Видим, что на большой выборке разница значительна. Использую метод **findall**"
      ],
      "metadata": {
        "id": "jCPujgOZjr-l"
      }
    },
    {
      "cell_type": "markdown",
      "source": [
        "Теперь удаление\n",
        "Способы удаления элементов из списка: <br>\n",
        "* pop(i) - удаление элементов по индексу <br>\n",
        "* создание нового списка с подходящими под условия элементами\n",
        "\n"
      ],
      "metadata": {
        "id": "RAWzuTgvaTWC"
      }
    },
    {
      "cell_type": "code",
      "source": [
        "# 1 способ - проход по списку с конца и удаление \n",
        "def remove_non_russian_strings_pop(string_list):\n",
        "    for i in range(len(string_list) - 1, -1, -1):\n",
        "        if len(re.findall('[А-Яа-я]', string_list[i])) < 2:\n",
        "            string_list.pop(i)\n",
        "    return string_list\n",
        "\n",
        "# 2 способ\n",
        "def remove_non_russian_strings_new_array(string_list):\n",
        "  return [elem for elem in string_list if len(re.findall('[А-Яа-я]', elem)) >= 2]"
      ],
      "metadata": {
        "id": "IBOkLlPhun4Y"
      },
      "execution_count": 11,
      "outputs": []
    },
    {
      "cell_type": "code",
      "source": [
        "# 2 способ\n",
        "start_time = time.time()\n",
        "print(len(remove_non_russian_strings_new_array(data)))\n",
        "print(\"%s сек\" % ((time.time() - start_time)))"
      ],
      "metadata": {
        "colab": {
          "base_uri": "https://localhost:8080/"
        },
        "id": "6jm-xa6YbnMu",
        "outputId": "8105bcd9-2f85-4f9b-d0d5-a6fff1c9fb85"
      },
      "execution_count": 12,
      "outputs": [
        {
          "output_type": "stream",
          "name": "stdout",
          "text": [
            "120000\n",
            "0.5031349658966064 сек\n"
          ]
        }
      ]
    },
    {
      "cell_type": "code",
      "source": [
        "start_time = time.time()\n",
        "print(len(remove_non_russian_strings_pop(data)))\n",
        "print(\"%s сек\" % ((time.time() - start_time)))"
      ],
      "metadata": {
        "colab": {
          "base_uri": "https://localhost:8080/"
        },
        "id": "rwxIWMQmcZHk",
        "outputId": "81d1fdf4-1f0e-45ae-ac15-c8f403981019"
      },
      "execution_count": 58,
      "outputs": [
        {
          "output_type": "stream",
          "name": "stdout",
          "text": [
            "12\n",
            "0.0013117790222167969 сек\n"
          ]
        }
      ]
    },
    {
      "cell_type": "markdown",
      "source": [
        "Время выполнения настолько мало, что мы не можем оценить, какой алгоритм выполнится быстрее. Теперь посмотрим, какое время исполнения функции на более объемной выборке - для этого я копирую исходную выборку 10000 раз"
      ],
      "metadata": {
        "id": "euy7Yd-ZbmfJ"
      }
    },
    {
      "cell_type": "code",
      "source": [
        "string_list = [\"Hello, world! Привет, мир!\",\n",
        "  \"Lorem ipsum dolor sit amet, consectetur adipiscing elit.\",\n",
        "  \"Сегодня хорошая погода. Today is a nice weather.\",\n",
        "  \"Массив. Array.\",\n",
        "  \"Программирование - это круто! Programming is cool!\",\n",
        "  \"Структура. Structure.\",\n",
        "  \"Я люблю программировать. I love programming.\",\n",
        "  \"Соответствие. Map.\",\n",
        "  \"Кодировка - это важно! Encoding is important!\",\n",
        "  \"ValueList.\",\n",
        "  \"ТаблицаЗначений. ValueTable.\",\n",
        "  \"ДеревоЗначений (Строки). ValueTree (Strings).\",\n",
        "  \"Область. Region.\",\n",
        "  \"Клиент. Client.\",\n",
        "  \"Server.\",\n",
        "  \"\"] * 10000"
      ],
      "metadata": {
        "id": "XptHNqas3xGz"
      },
      "execution_count": 60,
      "outputs": []
    },
    {
      "cell_type": "code",
      "source": [
        "len(string_list)"
      ],
      "metadata": {
        "colab": {
          "base_uri": "https://localhost:8080/"
        },
        "id": "T4tkfSG04ORm",
        "outputId": "c473207b-ef0e-4396-babb-335f861fbb2f"
      },
      "execution_count": 61,
      "outputs": [
        {
          "output_type": "execute_result",
          "data": {
            "text/plain": [
              "160000"
            ]
          },
          "metadata": {},
          "execution_count": 61
        }
      ]
    },
    {
      "cell_type": "code",
      "source": [
        "# 2 способ\n",
        "start_time = time.time()\n",
        "print(len(remove_non_russian_strings_new_array(string_list)))\n",
        "print(\"%s сек\" % ((time.time() - start_time)))"
      ],
      "metadata": {
        "colab": {
          "base_uri": "https://localhost:8080/"
        },
        "id": "Df9xlxVeulZo",
        "outputId": "5e0692f5-28e1-42e4-b693-6c4e72554cfa"
      },
      "execution_count": 62,
      "outputs": [
        {
          "output_type": "stream",
          "name": "stdout",
          "text": [
            "120000\n",
            "0.4905366897583008 сек\n"
          ]
        }
      ]
    },
    {
      "cell_type": "code",
      "source": [
        "# 1 способ\n",
        "start_time = time.time()\n",
        "print(len(remove_non_russian_strings_pop(string_list)))\n",
        "print(\"%s сек\" % ((time.time() - start_time)))"
      ],
      "metadata": {
        "colab": {
          "base_uri": "https://localhost:8080/"
        },
        "id": "MgCJZ-OSewRc",
        "outputId": "ce4f298e-187e-478f-eeab-5c6ad00cc986"
      },
      "execution_count": 63,
      "outputs": [
        {
          "output_type": "stream",
          "name": "stdout",
          "text": [
            "120000\n",
            "1.234612226486206 сек\n"
          ]
        }
      ]
    },
    {
      "cell_type": "markdown",
      "source": [
        "На большой выборке разница уже заметна"
      ],
      "metadata": {
        "id": "HtBD1tqsdFGO"
      }
    },
    {
      "cell_type": "markdown",
      "source": [
        "**Выводы:**<br>\n",
        " \n",
        "\n",
        "* Метод findAll быстрее чем search\n",
        "* Поскольку строки, которые нужно удалить, находятся по всему списку, предпочтительнее создавать новый список, а не удалять элементы из переданного списка с помощью метода pop(i) - как мы можем видеть с увеличением размера списка увеличивается время выполнения\n"
      ],
      "metadata": {
        "id": "wC7Y_gwm048-"
      }
    },
    {
      "cell_type": "markdown",
      "source": [
        "**Еще идеи:** <br>\n",
        "Можно посмотреть, как изменится время обработки строки, если средняя длина строки будет больше, чем в приведенном датасете"
      ],
      "metadata": {
        "id": "8sNz0LZzlFs6"
      }
    }
  ]
}